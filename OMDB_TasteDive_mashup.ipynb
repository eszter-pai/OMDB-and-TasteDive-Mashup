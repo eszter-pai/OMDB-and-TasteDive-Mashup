{
  "nbformat": 4,
  "nbformat_minor": 0,
  "metadata": {
    "colab": {
      "name": "OMDB mashup.ipynb",
      "provenance": []
    },
    "kernelspec": {
      "name": "python3",
      "display_name": "Python 3"
    },
    "language_info": {
      "name": "python"
    }
  },
  "cells": [
    {
      "cell_type": "code",
      "execution_count": null,
      "metadata": {
        "id": "oZx470F8O9uE"
      },
      "outputs": [],
      "source": [
        "import requests_with_caching\n",
        "import json\n",
        "\n",
        "def get_movies_from_tastedive(movie_name):\n",
        "    baseurl = 'https://tastedive.com/api/similar'\n",
        "    parameter = {}\n",
        "    parameter['q'] = movie_name\n",
        "    parameter['type'] = 'movies'\n",
        "    parameter['limit'] = 5\n",
        "    movie_resp = requests_with_caching.get(baseurl, params = parameter)\n",
        "    return movie_resp.json()\n",
        "\n",
        "def extract_movie_titles(movie_dict):\n",
        "    movie_name_lst = []\n",
        "    for dict in movie_dict['Similar']['Results']:\n",
        "        movie_name_lst.append(dict['Name'])\n",
        "    return movie_name_lst\n",
        "\n",
        "def get_related_titles(movie_title_lst):\n",
        "    related_titles_lst = []\n",
        "    for movie in movie_title_lst:\n",
        "        related_titles = extract_movie_titles(get_movies_from_tastedive(movie))\n",
        "        for title in related_titles:\n",
        "            if title not in related_titles_lst:\n",
        "                related_titles_lst.append(title)\n",
        "    return related_titles_lst\n",
        "\n",
        "def get_movie_data(title):\n",
        "    baseurl = 'http://www.omdbapi.com/'\n",
        "    parameter = {}\n",
        "    parameter['t'] = title\n",
        "    parameter['r'] = 'json'\n",
        "    title_resp = requests_with_caching.get(baseurl, params = parameter)\n",
        "    return title_resp.json()\n",
        "\n",
        "def get_movie_rating(dict):\n",
        "    for rating in dict['Ratings']:\n",
        "        if rating['Source'] == 'Rotten Tomatoes':\n",
        "            return int(rating['Value'][:-1])\n",
        "    return 0\n",
        "\n",
        "def get_sorted_recommendations(movie_titles):\n",
        "    list = []\n",
        "    for title in movie_titles:\n",
        "        list = list + extract_movie_titles(get_movies_from_tastedive(title))\n",
        "    score_list = sorted(list, reverse = True, key = lambda movie: (get_movie_rating(get_movie_data(movie)), movie))\n",
        "    return score_list"
      ]
    }
  ]
}